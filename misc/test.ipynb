{
 "cells": [
  {
   "cell_type": "code",
   "execution_count": null,
   "id": "aed4d5e7",
   "metadata": {},
   "outputs": [
    {
     "name": "stdout",
     "output_type": "stream",
     "text": [
      "['api_endpoint_create', 'Default Resource', 'api_endpoint_delete', 'api_endpoint_upload']\n"
     ]
    }
   ],
   "source": [
    "import jwt\n",
    "import json\n",
    "import time\n",
    "\n",
    "from functools import wraps\n",
    "from decouple import Config, RepositoryEnv\n",
    "from fastapi import HTTPException, Request, WebSocket\n",
    "from keycloak import KeycloakOpenID\n",
    "from jwcrypto.jwt import JWTExpired\n",
    "from jwcrypto.jws import InvalidJWSObject, InvalidJWSSignature\n",
    "from datetime import datetime\n",
    "\n",
    "KEYCLOAK_URL = \"http://localhost:8080\"\n",
    "KEYCLOAK_REALM_NAME = \"team_online\"\n",
    "KEYCLOAK_BACKEND_CLIENT_ID = \"benyon_be\"\n",
    "KEYCLOAK_BACKEND_CLIENT_SECRET = \"BC4FFJYDUBH1ccuPyB3sRvWSZblrs4SZ\"\n",
    "\n",
    "async def keycloak_verif(token:str):\n",
    "    keycloak_openid = KeycloakOpenID(server_url=KEYCLOAK_URL,\n",
    "                                    client_id=KEYCLOAK_BACKEND_CLIENT_ID,\n",
    "                                    realm_name=KEYCLOAK_REALM_NAME,\n",
    "                                    client_secret_key=KEYCLOAK_BACKEND_CLIENT_SECRET\n",
    "                                    )\n",
    "\n",
    "    dec_tok = await keycloak_openid.a_decode_token(token, validate=True)\n",
    "    intr_tok = await keycloak_openid.a_introspect(token)\n",
    "    if intr_tok.get(\"active\"): \n",
    "        if time.time()>intr_tok.get('exp'): raise Exception(\"auth token expired\")\n",
    "    else:\n",
    "        raise Exception(\"inactive auth token\")\n",
    "    \n",
    "    auth_status = keycloak_openid.uma_permissions(token)\n",
    "    permissions = [permissions_dict[i] for permissions_dict in auth_status for i in permissions_dict if i==\"rsname\"]\n",
    "    \n",
    "\n",
    "    return intr_tok, permissions\n",
    "\n",
    "token_from_request = \"\"\n",
    "intr_tok, permissions = await keycloak_verif(token_from_request)\n",
    "print(permissions)"
   ]
  }
 ],
 "metadata": {
  "kernelspec": {
   "display_name": "venv",
   "language": "python",
   "name": "python3"
  },
  "language_info": {
   "codemirror_mode": {
    "name": "ipython",
    "version": 3
   },
   "file_extension": ".py",
   "mimetype": "text/x-python",
   "name": "python",
   "nbconvert_exporter": "python",
   "pygments_lexer": "ipython3",
   "version": "3.13.3"
  }
 },
 "nbformat": 4,
 "nbformat_minor": 5
}
